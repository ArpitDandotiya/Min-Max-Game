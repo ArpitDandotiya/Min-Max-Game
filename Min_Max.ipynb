{
  "cells": [
    {
      "cell_type": "code",
      "execution_count": 2,
      "metadata": {
        "colab": {
          "base_uri": "https://localhost:8080/",
          "height": 390
        },
        "id": "iLppg-NSWqON",
        "outputId": "a223ae68-7c6e-485d-cf72-9766f6bcc789"
      },
      "outputs": [
        {
          "output_type": "error",
          "ename": "KeyboardInterrupt",
          "evalue": "ignored",
          "traceback": [
            "\u001b[0;31m---------------------------------------------------------------------------\u001b[0m",
            "\u001b[0;31mKeyboardInterrupt\u001b[0m                         Traceback (most recent call last)",
            "\u001b[0;32m<ipython-input-2-3c2a59d5e4c4>\u001b[0m in \u001b[0;36m<cell line: 47>\u001b[0;34m()\u001b[0m\n\u001b[1;32m     45\u001b[0m \u001b[0;34m\u001b[0m\u001b[0m\n\u001b[1;32m     46\u001b[0m \u001b[0;31m# Get user input for initial state\u001b[0m\u001b[0;34m\u001b[0m\u001b[0;34m\u001b[0m\u001b[0m\n\u001b[0;32m---> 47\u001b[0;31m \u001b[0minitial_state\u001b[0m \u001b[0;34m=\u001b[0m \u001b[0minput\u001b[0m\u001b[0;34m(\u001b[0m\u001b[0;34m\"Enter the initial state: \"\u001b[0m\u001b[0;34m)\u001b[0m\u001b[0;34m\u001b[0m\u001b[0;34m\u001b[0m\u001b[0m\n\u001b[0m\u001b[1;32m     48\u001b[0m \u001b[0;34m\u001b[0m\u001b[0m\n\u001b[1;32m     49\u001b[0m \u001b[0;31m# Set the initial state and print the board\u001b[0m\u001b[0;34m\u001b[0m\u001b[0;34m\u001b[0m\u001b[0m\n",
            "\u001b[0;32m/usr/local/lib/python3.10/dist-packages/ipykernel/kernelbase.py\u001b[0m in \u001b[0;36mraw_input\u001b[0;34m(self, prompt)\u001b[0m\n\u001b[1;32m    849\u001b[0m                 \u001b[0;34m\"raw_input was called, but this frontend does not support input requests.\"\u001b[0m\u001b[0;34m\u001b[0m\u001b[0;34m\u001b[0m\u001b[0m\n\u001b[1;32m    850\u001b[0m             )\n\u001b[0;32m--> 851\u001b[0;31m         return self._input_request(str(prompt),\n\u001b[0m\u001b[1;32m    852\u001b[0m             \u001b[0mself\u001b[0m\u001b[0;34m.\u001b[0m\u001b[0m_parent_ident\u001b[0m\u001b[0;34m,\u001b[0m\u001b[0;34m\u001b[0m\u001b[0;34m\u001b[0m\u001b[0m\n\u001b[1;32m    853\u001b[0m             \u001b[0mself\u001b[0m\u001b[0;34m.\u001b[0m\u001b[0m_parent_header\u001b[0m\u001b[0;34m,\u001b[0m\u001b[0;34m\u001b[0m\u001b[0;34m\u001b[0m\u001b[0m\n",
            "\u001b[0;32m/usr/local/lib/python3.10/dist-packages/ipykernel/kernelbase.py\u001b[0m in \u001b[0;36m_input_request\u001b[0;34m(self, prompt, ident, parent, password)\u001b[0m\n\u001b[1;32m    893\u001b[0m             \u001b[0;32mexcept\u001b[0m \u001b[0mKeyboardInterrupt\u001b[0m\u001b[0;34m:\u001b[0m\u001b[0;34m\u001b[0m\u001b[0;34m\u001b[0m\u001b[0m\n\u001b[1;32m    894\u001b[0m                 \u001b[0;31m# re-raise KeyboardInterrupt, to truncate traceback\u001b[0m\u001b[0;34m\u001b[0m\u001b[0;34m\u001b[0m\u001b[0m\n\u001b[0;32m--> 895\u001b[0;31m                 \u001b[0;32mraise\u001b[0m \u001b[0mKeyboardInterrupt\u001b[0m\u001b[0;34m(\u001b[0m\u001b[0;34m\"Interrupted by user\"\u001b[0m\u001b[0;34m)\u001b[0m \u001b[0;32mfrom\u001b[0m \u001b[0;32mNone\u001b[0m\u001b[0;34m\u001b[0m\u001b[0;34m\u001b[0m\u001b[0m\n\u001b[0m\u001b[1;32m    896\u001b[0m             \u001b[0;32mexcept\u001b[0m \u001b[0mException\u001b[0m \u001b[0;32mas\u001b[0m \u001b[0me\u001b[0m\u001b[0;34m:\u001b[0m\u001b[0;34m\u001b[0m\u001b[0;34m\u001b[0m\u001b[0m\n\u001b[1;32m    897\u001b[0m                 \u001b[0mself\u001b[0m\u001b[0;34m.\u001b[0m\u001b[0mlog\u001b[0m\u001b[0;34m.\u001b[0m\u001b[0mwarning\u001b[0m\u001b[0;34m(\u001b[0m\u001b[0;34m\"Invalid Message:\"\u001b[0m\u001b[0;34m,\u001b[0m \u001b[0mexc_info\u001b[0m\u001b[0;34m=\u001b[0m\u001b[0;32mTrue\u001b[0m\u001b[0;34m)\u001b[0m\u001b[0;34m\u001b[0m\u001b[0;34m\u001b[0m\u001b[0m\n",
            "\u001b[0;31mKeyboardInterrupt\u001b[0m: Interrupted by user"
          ]
        }
      ],
      "source": [
        "def utility(board):\n",
        "    return board.count('B')\n",
        "\n",
        "def terminal_state(board):\n",
        "    return '0' not in board\n",
        "\n",
        "def print_board(board):\n",
        "    print(\"Current Board:\", board)\n",
        "\n",
        "def flip_coins(board, position, player):\n",
        "    opposite_player = 'W' if player == 'B' else 'B'\n",
        "\n",
        "    i = position - 1\n",
        "    while i >= 0 and board[i] == opposite_player:\n",
        "        board[i] = player\n",
        "        i -= 1\n",
        "\n",
        "    i = position + 1\n",
        "    while i < len(board) and board[i] == opposite_player:\n",
        "        board[i] = player\n",
        "        i += 1\n",
        "\n",
        "def mini_max(board, depth, maximizing_player):\n",
        "    if terminal_state(board) or depth == 0:\n",
        "        return utility(board)\n",
        "\n",
        "    if maximizing_player:\n",
        "        max_eval = float('-inf')\n",
        "        for i in range(len(board)):\n",
        "            if board[i] == '0':\n",
        "                new_board = list(board)\n",
        "                new_board[i] = 'B'\n",
        "                flip_coins(new_board, i, 'B')\n",
        "                max_eval = max(max_eval, mini_max(''.join(new_board), depth - 1, False))\n",
        "        return max_eval\n",
        "    else:\n",
        "        min_eval = float('inf')\n",
        "        for i in range(len(board)):\n",
        "            if board[i] == '0':\n",
        "                new_board = list(board)\n",
        "                new_board[i] = 'W'\n",
        "                flip_coins(new_board, i, 'W')\n",
        "                min_eval = min(min_eval, mini_max(''.join(new_board), depth - 1, True))\n",
        "        return min_eval\n",
        "\n",
        "# Get user input for initial state\n",
        "initial_state = input(\"Enter the initial state: \")\n",
        "\n",
        "# Set the initial state and print the board\n",
        "current_board = initial_state\n",
        "print_board(current_board)\n",
        "\n",
        "# Calculate utility for the initial state\n",
        "initial_utility = utility(current_board)\n",
        "print(\"Utility of Player 1 (MAX) for initial state:\", initial_utility)\n",
        "\n",
        "# Simulate moves and calculate utility for different scenarios\n",
        "for move in range(1, len(initial_state)+1):  # Simulate moves for each player until the board is full\n",
        "    player = move % 2  # Alternating players (0 for Player 1, 1 for Player 2)\n",
        "    coin = 'B' if player == 0 else 'W'\n",
        "\n",
        "    # Get user input for the next move\n",
        "    next_move = int(input(f\"Enter the position (0-{len(current_board)-1}) for {coin}'s move: \"))\n",
        "\n",
        "    # Make the move and print the updated board\n",
        "    current_board = list(current_board)\n",
        "    current_board[next_move] = coin\n",
        "    flip_coins(current_board, next_move, coin)\n",
        "    current_board = ''.join(current_board)\n",
        "    print_board(current_board)\n",
        "\n",
        "    # Calculate utility for the updated state\n",
        "    current_utility = mini_max(current_board, depth=3, maximizing_player=True)\n",
        "    print(f\"Utility of Player 1 (MAX) after {move} moves: {current_utility}\")\n",
        "\n",
        "    # Check for terminal state\n",
        "    if terminal_state(current_board):\n",
        "        print(\"Terminal state reached. Game over.\")\n",
        "        break"
      ]
    },
    {
      "cell_type": "code",
      "execution_count": null,
      "metadata": {
        "id": "4Hg_m-0OWrX3"
      },
      "outputs": [],
      "source": []
    }
  ],
  "metadata": {
    "colab": {
      "provenance": []
    },
    "kernelspec": {
      "display_name": "Python 3",
      "name": "python3"
    },
    "language_info": {
      "name": "python"
    }
  },
  "nbformat": 4,
  "nbformat_minor": 0
}